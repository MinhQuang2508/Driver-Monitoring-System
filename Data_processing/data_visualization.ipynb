{
 "cells": [
  {
   "cell_type": "code",
   "execution_count": 3,
   "metadata": {},
   "outputs": [
    {
     "data": {
      "image/png": "[encoded data removed]",
      "text/plain": [
       "<Figure size 800x600 with 1 Axes>"
      ]
     },
     "metadata": {},
     "output_type": "display_data"
    }
   ],
   "source": [
    "import os\n",
    "import matplotlib.pyplot as plt\n",
    "\n",
    "def count_files_in_folder(folder_path):\n",
    "    # Đếm số lượng tệp tin trong thư mục\n",
    "    file_count = len([name for name in os.listdir(folder_path) if os.path.isfile(os.path.join(folder_path, name))])\n",
    "    return file_count\n",
    "\n",
    "def visualize_folders(folder_paths):\n",
    "    # Đếm số lượng tệp tin trong từng thư mục\n",
    "    file_counts = [count_files_in_folder(folder_path) for folder_path in folder_paths]\n",
    "\n",
    "    # Vẽ biểu đồ\n",
    "    plt.figure(figsize=(8, 6))\n",
    "    plt.bar(range(len(folder_paths)), file_counts, color='blue')\n",
    "    plt.xlabel('Thư mục')\n",
    "    plt.ylabel('Số lượng phần tử')\n",
    "    plt.title('Số lượng phần tử trong mỗi thư mục')\n",
    "    plt.xticks(range(len(folder_paths)), [os.path.basename(path) for path in folder_paths])\n",
    "    plt.show()\n",
    "\n",
    "# Đường dẫn của các thư mục cần trực quan hóa\n",
    "folder_paths = ['Normal', 'Sleepy']\n",
    "\n",
    "# Trực quan hóa số lượng phần tử trong các thư mục\n",
    "visualize_folders(folder_paths)\n"
   ]
  },
  {
   "cell_type": "code",
   "execution_count": 6,
   "metadata": {},
   "outputs": [
    {
     "name": "stdout",
     "output_type": "stream",
     "text": [
      "Type data Normal: jpg\n",
      "Type data Sleepy: jpg\n"
     ]
    }
   ],
   "source": [
    "def get_file_types(folder_path):\n",
    "    # Lấy danh sách tất cả các loại tệp tin trong thư mục\n",
    "    file_types = [file.split('.')[-1] for file in os.listdir(folder_path) if os.path.isfile(os.path.join(folder_path, file))]\n",
    "    # Loại bỏ các giá trị trùng lặp và sắp xếp theo thứ tự\n",
    "    unique_file_types = sorted(set(file_types))\n",
    "    return unique_file_types\n",
    "\n",
    "def print_file_types(folder_paths):\n",
    "    for folder_path in folder_paths:\n",
    "        file_types = get_file_types(folder_path)\n",
    "        print(f\"Type data {folder_path}: {', '.join(file_types)}\")\n",
    "\n",
    "# Đường dẫn của các thư mục cần kiểm tra loại tệp tin\n",
    "folder_paths = ['Normal', 'Sleepy']\n",
    "\n",
    "# In ra các kiểu dữ liệu có trong các thư mục\n",
    "print_file_types(folder_paths)\n"
   ]
  },
  {
   "cell_type": "code",
   "execution_count": 7,
   "metadata": {},
   "outputs": [
    {
     "name": "stderr",
     "output_type": "stream",
     "text": [
      "C:\\Users\\admin\\AppData\\Local\\Temp\\ipykernel_2300\\107263291.py:15: DeprecationWarning: ANTIALIAS is deprecated and will be removed in Pillow 10 (2023-07-01). Use LANCZOS or Resampling.LANCZOS instead.\n",
      "  resized_image = image.resize(target_size, Image.ANTIALIAS)\n"
     ]
    }
   ],
   "source": [
    "from PIL import Image\n",
    "\n",
    "def resize_images_in_place(folder_path, target_size=(224, 224)):\n",
    "    # Lặp qua từng tệp tin trong thư mục\n",
    "    for file_name in os.listdir(folder_path):\n",
    "        # Xác định đường dẫn đầy đủ của tệp tin\n",
    "        file_path = os.path.join(folder_path, file_name)\n",
    "\n",
    "        # Kiểm tra nếu tệp tin là hình ảnh\n",
    "        if os.path.isfile(file_path) and file_name.lower().endswith(('.png', '.jpg', '.jpeg', '.gif')):\n",
    "            # Mở hình ảnh\n",
    "            image = Image.open(file_path)\n",
    "            \n",
    "            # Thay đổi kích thước hình ảnh\n",
    "            resized_image = image.resize(target_size, Image.ANTIALIAS)\n",
    "\n",
    "            # Ghi đè lên hình ảnh gốc\n",
    "            resized_image.save(file_path)\n",
    "\n",
    "# Đường dẫn của thư mục chứa các ảnh cần thay đổi kích thước\n",
    "folder_path_1 = r'D:\\data_TA\\YawDD dataset\\Dash\\Normal'\n",
    "folder_path_2 = r'D:\\data_TA\\YawDD dataset\\Dash\\Sleepy'\n",
    "\n",
    "# Thực hiện thay đổi kích thước trực tiếp trong folder gốc cho ảnh trong hai thư mục\n",
    "resize_images_in_place(folder_path_1)\n",
    "resize_images_in_place(folder_path_2)"
   ]
  },
  {
   "cell_type": "code",
   "execution_count": 13,
   "metadata": {},
   "outputs": [
    {
     "name": "stdout",
     "output_type": "stream",
     "text": [
      "Các kích thước ảnh chung có trong cả hai thư mục:\n",
      "224 x 224\n"
     ]
    }
   ],
   "source": [
    "import os\n",
    "from PIL import Image\n",
    "\n",
    "def get_image_sizes(folder_path):\n",
    "    # Tạo một tập hợp để lưu kích thước dài x rộng của các ảnh trong thư mục\n",
    "    image_sizes = set()\n",
    "    # Lặp qua từng tệp tin trong thư mục\n",
    "    for file_name in os.listdir(folder_path):\n",
    "        # Xác định đường dẫn đầy đủ của tệp tin\n",
    "        file_path = os.path.join(folder_path, file_name)\n",
    "        # Kiểm tra nếu tệp tin là hình ảnh\n",
    "        if os.path.isfile(file_path) and file_name.lower().endswith(('.png', '.jpg', '.jpeg', '.gif')):\n",
    "            # Mở hình ảnh để lấy kích thước\n",
    "            image = Image.open(file_path)\n",
    "            # Lấy kích thước dài x rộng của ảnh và thêm vào tập hợp\n",
    "            width, height = image.size\n",
    "            image_sizes.add((width, height))\n",
    "    return image_sizes\n",
    "\n",
    "# Đường dẫn của hai thư mục chứa các ảnh\n",
    "folder_path_1 = r'Normal'\n",
    "folder_path_2 = r'Sleepy'\n",
    "\n",
    "# Lấy kích thước của ảnh từ hai thư mục\n",
    "image_sizes_1 = get_image_sizes(folder_path_1)\n",
    "image_sizes_2 = get_image_sizes(folder_path_2)\n",
    "\n",
    "# Tìm kích thước chung có trong cả hai thư mục\n",
    "common_image_sizes = image_sizes_1.intersection(image_sizes_2)\n",
    "\n",
    "# In ra các kích thước ảnh chung ở dạng dài x rộng\n",
    "print(\"Các kích thước ảnh chung có trong cả hai thư mục:\")\n",
    "for size in common_image_sizes:\n",
    "    width, height = size\n",
    "    print(f\"{width} x {height}\")\n",
    "\n",
    "\n"
   ]
  }
 ],
 "metadata": {
  "kernelspec": {
   "display_name": "Python 3",
   "language": "python",
   "name": "python3"
  },
  "language_info": {
   "codemirror_mode": {
    "name": "ipython",
    "version": 3
   },
   "file_extension": ".py",
   "mimetype": "text/x-python",
   "name": "python",
   "nbconvert_exporter": "python",
   "pygments_lexer": "ipython3",
   "version": "3.10.10"
  }
 },
 "nbformat": 4,
 "nbformat_minor": 2
}
